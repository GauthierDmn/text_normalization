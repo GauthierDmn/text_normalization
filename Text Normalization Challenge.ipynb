{
 "cells": [
  {
   "cell_type": "markdown",
   "metadata": {},
   "source": [
    "# Text Normalization Challenge"
   ]
  },
  {
   "cell_type": "markdown",
   "metadata": {},
   "source": [
    "In this competition, the goal is to develop a machine learning model that can, given a written expression, output its spoken form.\n",
    "\n",
    "We are provided a training set made of:\n",
    "- A column containing the raw set\n",
    "- A column containing the 'class' of each expression\n",
    "- A column containing the output, i.e. the spoken form of the expression\n",
    "\n",
    "This notebook will first explore the dataset, then show different machine learning models that we have tried to perform this prediction task."
   ]
  },
  {
   "cell_type": "markdown",
   "metadata": {},
   "source": [
    "# First step: Exploration of the dataset"
   ]
  },
  {
   "cell_type": "code",
   "execution_count": 2,
   "metadata": {},
   "outputs": [
    {
     "data": {
      "text/html": [
       "<div>\n",
       "<style>\n",
       "    .dataframe thead tr:only-child th {\n",
       "        text-align: right;\n",
       "    }\n",
       "\n",
       "    .dataframe thead th {\n",
       "        text-align: left;\n",
       "    }\n",
       "\n",
       "    .dataframe tbody tr th {\n",
       "        vertical-align: top;\n",
       "    }\n",
       "</style>\n",
       "<table border=\"1\" class=\"dataframe\">\n",
       "  <thead>\n",
       "    <tr style=\"text-align: right;\">\n",
       "      <th></th>\n",
       "      <th>sentence_id</th>\n",
       "      <th>token_id</th>\n",
       "      <th>class</th>\n",
       "      <th>before</th>\n",
       "      <th>after</th>\n",
       "    </tr>\n",
       "  </thead>\n",
       "  <tbody>\n",
       "    <tr>\n",
       "      <th>0</th>\n",
       "      <td>0</td>\n",
       "      <td>0</td>\n",
       "      <td>PLAIN</td>\n",
       "      <td>Brillantaisia</td>\n",
       "      <td>Brillantaisia</td>\n",
       "    </tr>\n",
       "    <tr>\n",
       "      <th>1</th>\n",
       "      <td>0</td>\n",
       "      <td>1</td>\n",
       "      <td>PLAIN</td>\n",
       "      <td>is</td>\n",
       "      <td>is</td>\n",
       "    </tr>\n",
       "    <tr>\n",
       "      <th>2</th>\n",
       "      <td>0</td>\n",
       "      <td>2</td>\n",
       "      <td>PLAIN</td>\n",
       "      <td>a</td>\n",
       "      <td>a</td>\n",
       "    </tr>\n",
       "    <tr>\n",
       "      <th>3</th>\n",
       "      <td>0</td>\n",
       "      <td>3</td>\n",
       "      <td>PLAIN</td>\n",
       "      <td>genus</td>\n",
       "      <td>genus</td>\n",
       "    </tr>\n",
       "    <tr>\n",
       "      <th>4</th>\n",
       "      <td>0</td>\n",
       "      <td>4</td>\n",
       "      <td>PLAIN</td>\n",
       "      <td>of</td>\n",
       "      <td>of</td>\n",
       "    </tr>\n",
       "  </tbody>\n",
       "</table>\n",
       "</div>"
      ],
      "text/plain": [
       "   sentence_id  token_id  class         before          after\n",
       "0            0         0  PLAIN  Brillantaisia  Brillantaisia\n",
       "1            0         1  PLAIN             is             is\n",
       "2            0         2  PLAIN              a              a\n",
       "3            0         3  PLAIN          genus          genus\n",
       "4            0         4  PLAIN             of             of"
      ]
     },
     "execution_count": 2,
     "metadata": {},
     "output_type": "execute_result"
    }
   ],
   "source": [
    "import numpy as np \n",
    "import pandas as pd\n",
    "df = pd.read_csv(\"en_train.csv\")\n",
    "# Taking a first look at the training dataset:\n",
    "df.head()"
   ]
  },
  {
   "cell_type": "code",
   "execution_count": 9,
   "metadata": {},
   "outputs": [
    {
     "name": "stdout",
     "output_type": "stream",
     "text": [
      "The training dataset has 9918441 training examples.\n",
      "The different classes are ['PLAIN' 'PUNCT' 'DATE' 'LETTERS' 'CARDINAL' 'VERBATIM' 'DECIMAL' 'MEASURE'\n",
      " 'MONEY' 'ORDINAL' 'TIME' 'ELECTRONIC' 'DIGIT' 'FRACTION' 'TELEPHONE'\n",
      " 'ADDRESS']\n"
     ]
    }
   ],
   "source": [
    "print (( \"The training dataset has %s training examples.\") % (df.shape[0]))\n",
    "print (( \"The different classes are %s\") % (df['class'].unique()))"
   ]
  },
  {
   "cell_type": "code",
   "execution_count": 15,
   "metadata": {},
   "outputs": [
    {
     "data": {
      "image/png": "[encoded data removed]",
      "text/plain": [
       "<matplotlib.figure.Figure at 0x126ef72b0>"
      ]
     },
     "metadata": {},
     "output_type": "display_data"
    }
   ],
   "source": [
    "import matplotlib.pyplot as plt\n",
    "import seaborn as sns\n",
    "hist = df.groupby('class',as_index=False).count()\n",
    "g= sns.barplot(x=hist['class'],y=hist['before'])\n",
    "for item in g.get_xticklabels():\n",
    "    item.set_rotation(45)\n",
    "plt.show()"
   ]
  },
  {
   "cell_type": "code",
   "execution_count": 18,
   "metadata": {},
   "outputs": [
    {
     "data": {
      "text/plain": [
       "class\n",
       "ADDRESS        0.005263\n",
       "CARDINAL       1.348438\n",
       "DATE           2.604724\n",
       "DECIMAL        0.099018\n",
       "DIGIT          0.054867\n",
       "ELECTRONIC     0.052044\n",
       "FRACTION       0.012058\n",
       "LETTERS        1.540464\n",
       "MEASURE        0.149046\n",
       "MONEY          0.061784\n",
       "ORDINAL        0.128075\n",
       "PLAIN         74.141158\n",
       "PUNCT         18.959703\n",
       "TELEPHONE      0.040571\n",
       "TIME           0.014770\n",
       "VERBATIM       0.787503\n",
       "Name: before, dtype: float64"
      ]
     },
     "execution_count": 18,
     "metadata": {},
     "output_type": "execute_result"
    }
   ],
   "source": [
    "# Distribution (%) of classes among the training set\n",
    "# The two main classes, far above the others, are the Plain and Punct classes\n",
    "df.groupby('class').count()['before']/df.shape[0]*100"
   ]
  },
  {
   "cell_type": "code",
   "execution_count": 21,
   "metadata": {},
   "outputs": [
    {
     "name": "stdout",
     "output_type": "stream",
     "text": [
      "There are 748066 different sentences in the training set.\n"
     ]
    }
   ],
   "source": [
    "print (( \"There are %s different sentences in the training set.\") % (len(df['sentence_id'].unique())))"
   ]
  },
  {
   "cell_type": "markdown",
   "metadata": {},
   "source": [
    "# Second step: Various machine learning models"
   ]
  },
  {
   "cell_type": "markdown",
   "metadata": {},
   "source": [
    "# Predicting the class of expressions with XGBoost\n",
    "In the below, we use a xgboost to complete the task of guessing only the class of the expression, which is a simpler task than guessing the entire spoken form of the expression."
   ]
  },
  {
   "cell_type": "code",
   "execution_count": 4,
   "metadata": {},
   "outputs": [],
   "source": [
    "# Preparing the dataset\n",
    "max_num_features = 20\n",
    "max_size = 200000\n",
    "x_data = []\n",
    "y_data = pd.factorize(df['class'])\n",
    "labels = y_data[1]\n",
    "y_data = y_data[0]\n",
    "for x in df['before'].values:\n",
    "    x_row = np.zeros(max_num_features, dtype=int)\n",
    "    #  Taking the ASCII value of an expression, minus that of a\n",
    "    for xi, i in zip(list(str(x)), np.arange(max_num_features)):\n",
    "        x_row[i] = ord(xi) - ord('a')\n",
    "    x_data.append(x_row)\n",
    "x_data = np.array(x_data[:max_size])\n",
    "y_data = np.array(y_data[:max_size])"
   ]
  },
  {
   "cell_type": "code",
   "execution_count": 7,
   "metadata": {},
   "outputs": [
    {
     "name": "stdout",
     "output_type": "stream",
     "text": [
      "[0]\tvalid-merror:0.0285\ttrain-merror:0.026744\n",
      "Multiple eval metrics have been passed: 'train-merror' will be used for early stopping.\n",
      "\n",
      "Will train until train-merror hasn't improved in 20 rounds.\n",
      "[10]\tvalid-merror:0.0231\ttrain-merror:0.0209\n",
      "[20]\tvalid-merror:0.02215\ttrain-merror:0.019728\n",
      "[30]\tvalid-merror:0.0217\ttrain-merror:0.019394\n",
      "[40]\tvalid-merror:0.0217\ttrain-merror:0.0192\n",
      "[50]\tvalid-merror:0.02175\ttrain-merror:0.018983\n",
      "[59]\tvalid-merror:0.02185\ttrain-merror:0.018867\n"
     ]
    }
   ],
   "source": [
    "# Training the model\n",
    "import xgboost as xgb\n",
    "import numpy as np\n",
    "import pickle\n",
    "import os\n",
    "import re\n",
    "import pandas as pd\n",
    "from sklearn.model_selection import train_test_split\n",
    "\n",
    "x_train = x_data\n",
    "y_train = y_data\n",
    "del x_data\n",
    "del y_data\n",
    "x_train, x_valid, y_train, y_valid= train_test_split(x_train, y_train,\n",
    "                                                      test_size=0.1, random_state=2017)\n",
    "num_class = len(labels)\n",
    "\n",
    "dtrain = xgb.DMatrix(x_train, label=y_train)\n",
    "dvalid = xgb.DMatrix(x_valid, label=y_valid)\n",
    "\n",
    "watchlist = [(dvalid, 'valid'), (dtrain, 'train')]\n",
    "param = {'objective':'multi:softmax',\n",
    "         'eta':'0.3', 'max_depth':10,\n",
    "         'silent':1, 'nthread':-1,\n",
    "         'num_class':num_class,\n",
    "         'eval_metric':'merror'}\n",
    "model = xgb.train(param, dtrain, 60, watchlist, early_stopping_rounds=20,\n",
    "                  verbose_eval=10)"
   ]
  },
  {
   "cell_type": "code",
   "execution_count": 8,
   "metadata": {},
   "outputs": [],
   "source": [
    "pred = model.predict(dvalid)\n",
    "pred = [labels[int(x)] for x in pred]\n",
    "y_valid = [labels[x] for x in y_valid]\n",
    "x_valid = [ [ chr(x + ord('a')) for x in y] for y in x_valid]\n",
    "x_valid = [''.join(x) for x in x_valid]\n",
    "x_valid = [re.sub('a+$', '', x) for x in x_valid]\n",
    "\n",
    "df_pred = pd.DataFrame(columns=['data', 'predict', 'target'])\n",
    "df_pred['data'] = x_valid\n",
    "df_pred['predict'] = pred\n",
    "df_pred['target'] = y_valid\n",
    "df_pred.to_csv(os.path.join(out_path, 'pred.csv'))\n",
    "\n",
    "df_errors = df_pred.loc[df_pred['predict'] != df_pred['target']]\n",
    "df_errors.to_csv(os.path.join(out_path, 'errors.csv'))\n",
    "\n",
    "model.save_model(os.path.join(out_path, 'xgb_model'))"
   ]
  },
  {
   "cell_type": "markdown",
   "metadata": {},
   "source": [
    "# XGBoost using padding of words"
   ]
  },
  {
   "cell_type": "markdown",
   "metadata": {},
   "source": [
    "In this part, we use the context of an expression, ie its previous words. A padding is defined to let XGBoost understand the boundaries of words."
   ]
  },
  {
   "cell_type": "code",
   "execution_count": 6,
   "metadata": {},
   "outputs": [
    {
     "data": {
      "text/plain": [
       "88"
      ]
     },
     "execution_count": 6,
     "metadata": {},
     "output_type": "execute_result"
    }
   ],
   "source": [
    "# Importing necessary packages\n",
    "import pandas as pd\n",
    "import numpy as np\n",
    "import os\n",
    "import pickle\n",
    "import gc\n",
    "import xgboost as xgb\n",
    "import numpy as np\n",
    "import re\n",
    "import pandas as pd\n",
    "from sklearn.model_selection import train_test_split\n",
    "\n",
    "max_num_features = 10\n",
    "pad_size = 1\n",
    "boundary_letter = -1\n",
    "space_letter = 0\n",
    "max_data_size = 320000\n",
    "\n",
    "df = pd.read_csv('en_train.csv')\n",
    "\n",
    "x_data = []\n",
    "y_data =  pd.factorize(df['class'])\n",
    "labels = y_data[1]\n",
    "y_data = y_data[0]\n",
    "gc.collect()\n",
    "# Similar to the previous approach"
   ]
  },
  {
   "cell_type": "code",
   "execution_count": 8,
   "metadata": {},
   "outputs": [],
   "source": [
    "for x in df['before'].values:\n",
    "    x_row = np.ones(max_num_features, dtype=int) * space_letter\n",
    "    for xi, i in zip(list(str(x)), np.arange(max_num_features)):\n",
    "        x_row[i] = ord(xi)\n",
    "    x_data.append(x_row)"
   ]
  },
  {
   "cell_type": "code",
   "execution_count": 11,
   "metadata": {},
   "outputs": [
    {
     "name": "stdout",
     "output_type": "stream",
     "text": [
      "Total number of samples: 320000\n",
      "Use:  320000\n",
      "x_data sample:\n",
      "[ -1   0   0   0   0   0   0   0   0   0   0  -1  66 114 105 108 108  97\n",
      " 110 116  97 105  -1 105 115   0   0   0   0   0   0   0   0  -1]\n",
      "y_data sample:\n",
      "0\n",
      "labels:\n",
      "Index(['PLAIN', 'PUNCT', 'DATE', 'LETTERS', 'CARDINAL', 'VERBATIM', 'DECIMAL',\n",
      "       'MEASURE', 'MONEY', 'ORDINAL', 'TIME', 'ELECTRONIC', 'DIGIT',\n",
      "       'FRACTION', 'TELEPHONE', 'ADDRESS'],\n",
      "      dtype='object')\n"
     ]
    }
   ],
   "source": [
    "# Adding context information\n",
    "def context_window_transform(data, pad_size):\n",
    "    pre = np.zeros(max_num_features)\n",
    "    pre = [pre for x in np.arange(pad_size)]\n",
    "    data = pre + data + pre\n",
    "    neo_data = []\n",
    "    for i in np.arange(len(data) - pad_size * 2):\n",
    "        row = []\n",
    "        for x in data[i : i + pad_size * 2 + 1]:\n",
    "            row.append([boundary_letter])\n",
    "            row.append(x)\n",
    "        row.append([boundary_letter])\n",
    "        neo_data.append([int(x) for y in row for x in y])\n",
    "    return neo_data\n",
    "\n",
    "x_data = x_data[:max_data_size]\n",
    "y_data = y_data[:max_data_size]\n",
    "x_data = np.array(context_window_transform(x_data, pad_size))\n",
    "gc.collect()\n",
    "x_data = np.array(x_data)\n",
    "y_data = np.array(y_data)\n",
    "\n",
    "print('Total number of samples:', len(x_data))\n",
    "print('Use: ', max_data_size)\n",
    "#x_data = np.array(x_data)\n",
    "#y_data = np.array(y_data)\n",
    "\n",
    "print('x_data sample:')\n",
    "print(x_data[0])\n",
    "print('y_data sample:')\n",
    "print(y_data[0])\n",
    "print('labels:')\n",
    "print(labels)"
   ]
  },
  {
   "cell_type": "markdown",
   "metadata": {},
   "source": [
    "The above script allowed us to add context to the data via padding. 2 special symbols were used to indicate the boundaries between words."
   ]
  },
  {
   "cell_type": "code",
   "execution_count": 14,
   "metadata": {},
   "outputs": [
    {
     "name": "stdout",
     "output_type": "stream",
     "text": [
      "[0]\tvalid-merror:0.007594\ttrain-merror:0.007781\n",
      "Multiple eval metrics have been passed: 'train-merror' will be used for early stopping.\n",
      "\n",
      "Will train until train-merror hasn't improved in 20 rounds.\n",
      "[10]\tvalid-merror:0.005469\ttrain-merror:0.003535\n",
      "[20]\tvalid-merror:0.004938\ttrain-merror:0.002073\n",
      "[30]\tvalid-merror:0.00475\ttrain-merror:0.001031\n",
      "[40]\tvalid-merror:0.004625\ttrain-merror:0.000493\n",
      "[49]\tvalid-merror:0.004656\ttrain-merror:0.000278\n"
     ]
    }
   ],
   "source": [
    "x_train = x_data\n",
    "y_train = y_data\n",
    "gc.collect()\n",
    "\n",
    "x_train, x_valid, y_train, y_valid= train_test_split(x_train, y_train,\n",
    "                                                      test_size=0.1, random_state=2017)\n",
    "gc.collect()\n",
    "num_class = len(labels)\n",
    "dtrain = xgb.DMatrix(x_train, label=y_train)\n",
    "dvalid = xgb.DMatrix(x_valid, label=y_valid)\n",
    "watchlist = [(dvalid, 'valid'), (dtrain, 'train')]\n",
    "\n",
    "param = {'objective':'multi:softmax',\n",
    "         'eta':'0.3', 'max_depth':10,\n",
    "         'silent':1, 'nthread':-1,\n",
    "         'num_class':num_class,\n",
    "         'eval_metric':'merror'}\n",
    "model = xgb.train(param, dtrain, 50, watchlist, early_stopping_rounds=20,\n",
    "                  verbose_eval=10)\n",
    "gc.collect()\n",
    "\n",
    "pred = model.predict(dvalid)\n",
    "pred = [labels[int(x)] for x in pred]\n",
    "y_valid = [labels[x] for x in y_valid]\n",
    "x_valid = [ [ chr(x) for x in y[2 + max_num_features: 2 + max_num_features * 2]] for y in x_valid]\n",
    "x_valid = [''.join(x) for x in x_valid]\n",
    "x_valid = [re.sub('a+$', '', x) for x in x_valid]\n",
    "\n",
    "gc.collect()\n",
    "\n",
    "df_pred = pd.DataFrame(columns=['data', 'predict', 'target'])\n",
    "df_pred['data'] = x_valid\n",
    "df_pred['predict'] = pred\n",
    "df_pred['target'] = y_valid"
   ]
  },
  {
   "cell_type": "markdown",
   "metadata": {},
   "source": [
    "# LSTM Model for prediction on the Cardinal class"
   ]
  },
  {
   "cell_type": "code",
   "execution_count": 15,
   "metadata": {},
   "outputs": [
    {
     "name": "stderr",
     "output_type": "stream",
     "text": [
      "Using TensorFlow backend.\n"
     ]
    }
   ],
   "source": [
    "import numpy as np\n",
    "from numpy import argmax\n",
    "import pandas as pd\n",
    "\n",
    "# Keras\n",
    "from keras.models import Sequential\n",
    "from keras.layers import Dense\n",
    "from keras.layers import LSTM\n",
    "from keras.layers import TimeDistributed\n",
    "from keras.layers import RepeatVector\n",
    "from keras.preprocessing.text import text_to_word_sequence"
   ]
  },
  {
   "cell_type": "code",
   "execution_count": 16,
   "metadata": {},
   "outputs": [],
   "source": [
    "# Max columns for display\n",
    "pd.options.display.max_columns = 999\n",
    "\n",
    "# Disable warning message\n",
    "import warnings\n",
    "warnings.filterwarnings('ignore')\n",
    "\n",
    "df = pd.read_csv(\"en_train.csv\")"
   ]
  },
  {
   "cell_type": "code",
   "execution_count": 21,
   "metadata": {},
   "outputs": [
    {
     "name": "stdout",
     "output_type": "stream",
     "text": [
      "_________________________________________________________________\n",
      "Layer (type)                 Output Shape              Param #   \n",
      "=================================================================\n",
      "lstm_1 (LSTM)                (None, 75)                30900     \n",
      "_________________________________________________________________\n",
      "repeat_vector_1 (RepeatVecto (None, 44, 75)            0         \n",
      "_________________________________________________________________\n",
      "lstm_2 (LSTM)                (None, 44, 50)            25200     \n",
      "_________________________________________________________________\n",
      "time_distributed_1 (TimeDist (None, 44, 44)            2244      \n",
      "=================================================================\n",
      "Total params: 58,344\n",
      "Trainable params: 58,344\n",
      "Non-trainable params: 0\n",
      "_________________________________________________________________\n",
      "None\n"
     ]
    }
   ],
   "source": [
    "def integer_encode_X(X, vocabs, reverse_order=True, max_len=50, pad_default_char=' '):\n",
    "    char_to_int = dict((c, i) for i, c in enumerate(vocabs))\n",
    "    \n",
    "    Xenc = list()\n",
    "    for pattern in X:\n",
    "        pattern = pattern[:max_len]\n",
    "        pattern = pattern + (pad_default_char * (max_len - len(pattern)))\n",
    "        if reverse_order:\n",
    "            pattern = pattern[::-1]\n",
    "        integer_encoded = [char_to_int[char] for char in pattern]\n",
    "        Xenc.append(integer_encoded)\n",
    "    return Xenc\n",
    "\n",
    "\n",
    "def text_to_word_sequence_fixed(text):\n",
    "    list_words = text_to_word_sequence(text)\n",
    "    return list_words if len(list_words) > 0 else [text]\n",
    "\n",
    "\n",
    "def integer_encode_Y(y, vocabs, max_len=50, pad_default_char='PAD'):\n",
    "    idx_mapping = dict((c, i) for i, c in enumerate(vocabs))\n",
    "    \n",
    "    yenc = list()\n",
    "    for pattern in y:\n",
    "        pattern = text_to_word_sequence_fixed(pattern)[:max_len]\n",
    "        pattern = pattern + ([pad_default_char] * (max_len - len(pattern)))\n",
    "        integer_encoded = [idx_mapping[word] for word in pattern]\n",
    "        yenc.append(integer_encoded)\n",
    "    return yenc\n",
    "\n",
    "def one_hot_encode(X, y, vec_size_x, vec_size_y):\n",
    "    Xenc = list()\n",
    "    for seq in X:\n",
    "        pattern = list()\n",
    "        for index in seq:\n",
    "            vector = [0 for _ in range(vec_size_x)]\n",
    "            vector[index] = 1\n",
    "            pattern.append(vector)\n",
    "        Xenc.append(pattern)\n",
    "    yenc = list()\n",
    "    for seq in y:\n",
    "        pattern = list()\n",
    "        for index in seq:\n",
    "            vector = [0 for _ in range(vec_size_y)]\n",
    "            vector[index] = 1\n",
    "            pattern.append(vector)\n",
    "        yenc.append(pattern)\n",
    "    return np.array(Xenc), np.array(yenc)\n",
    "\n",
    "\n",
    "def invert(seq, vocabs, join_char=''):\n",
    "    idx_mapping = dict((i, c) for i, c in enumerate(vocabs))\n",
    "\n",
    "    strings = list()\n",
    "    for pattern in seq:\n",
    "        string = idx_mapping[argmax(pattern)]\n",
    "        strings.append(string)\n",
    "    return join_char.join(strings)\n",
    "\n",
    "\n",
    "def make_transform_train_data(\n",
    "        df, X_vocabs, y_vocabs,\n",
    "        n_in_seq_length, n_out_seq_length,\n",
    "        n_in_terms, n_out_terms\n",
    "    ):\n",
    "    X_small = df['before']\n",
    "    y_small = df['after']\n",
    "    \n",
    "    x_transformed = integer_encode_X(X_small, X_vocabs, max_len=n_in_seq_length)\n",
    "    y_transformed = integer_encode_Y(y_small, y_vocabs, max_len=n_out_seq_length)\n",
    "    \n",
    "    return one_hot_encode(\n",
    "        x_transformed,\n",
    "        y_transformed,\n",
    "        n_in_terms,\n",
    "        n_out_terms\n",
    "    )\n",
    "\n",
    "# Filtering the data\n",
    "df_filtered = df[df['class'] == 'CARDINAL']\n",
    "df_filtered[['before', 'after']] = df_filtered[['before', 'after']].astype(str)\n",
    "\n",
    "X = df_filtered['before']\n",
    "y = df_filtered['after']\n",
    "\n",
    "X_vocabs = set([' '])\n",
    "for words in X:\n",
    "    X_vocabs.update(list(words))\n",
    "X_vocabs = [' '] + [X_vocab for X_vocab in list(X_vocabs) if X_vocab != ' ']\n",
    "\n",
    "y_vocabs = set()\n",
    "for words in y:\n",
    "    y_vocabs.update(text_to_word_sequence_fixed(words))\n",
    "y_vocabs = ['PAD'] + list(y_vocabs)\n",
    "\n",
    "n_in_seq_length = np.min([50, len(X_vocabs)])\n",
    "n_out_seq_length = np.min([50, len(y_vocabs)])\n",
    "\n",
    "n_in_terms = len(X_vocabs)\n",
    "n_out_terms = len(y_vocabs)\n",
    "\n",
    "\n",
    "model = Sequential()\n",
    "model.add(LSTM(75, input_shape=(n_in_seq_length, n_in_terms)))\n",
    "model.add(RepeatVector(n_out_seq_length))\n",
    "model.add(LSTM(50, return_sequences=True))\n",
    "model.add(TimeDistributed(Dense(n_out_terms, activation='softmax')))\n",
    "model.compile(loss='categorical_crossentropy', optimizer='adam', metrics=['accuracy'])\n",
    "print(model.summary())"
   ]
  },
  {
   "cell_type": "code",
   "execution_count": null,
   "metadata": {},
   "outputs": [
    {
     "name": "stdout",
     "output_type": "stream",
     "text": [
      "Epoch 1/1\n",
      "129568/133744 [============================>.] - ETA: 1028s - loss: 0.1321 - acc: 0.9685"
     ]
    }
   ],
   "source": [
    "x_transformed, y_transformed = make_transform_train_data(\n",
    "    df_filtered, X_vocabs, y_vocabs,\n",
    "    n_in_seq_length, n_out_seq_length,\n",
    "    n_in_terms, n_out_terms\n",
    ")\n",
    "\n",
    "model.fit(x_transformed, y_transformed, epochs=1, batch_size=32)\n",
    "\n",
    "# Get first 2000 rows for verify the model performance\n",
    "x_transformed_test, y_transformed_test = make_transform_train_data(\n",
    "    df_filtered.iloc[:2000], X_vocabs, y_vocabs,\n",
    "    n_in_seq_length, n_out_seq_length,\n",
    "    n_in_terms, n_out_terms\n",
    ")\n",
    "\n",
    "yhat = model.predict(x_transformed_test, verbose=0)\n",
    "\n",
    "for idx, yh in enumerate(yhat[:50]):\n",
    "    yh_inverted = invert(yh, vocabs=y_vocabs, join_char=' ').replace(' PAD', '')\n",
    "    in_seq = invert(x_transformed_test[idx], X_vocabs).replace(' ', '')[::-1]\n",
    "    out_seq = invert(y_transformed_test[idx], y_vocabs, join_char=' ').replace(' PAD', '')\n",
    "    print('%s = %s (%s expect: %s)' % (in_seq, yh_inverted, ('TRUE' if out_seq == yh_inverted else \"FALSE\"), out_seq))    "
   ]
  }
 ],
 "metadata": {
  "kernelspec": {
   "display_name": "Python 3",
   "language": "python",
   "name": "python3"
  },
  "language_info": {
   "codemirror_mode": {
    "name": "ipython",
    "version": 3
   },
   "file_extension": ".py",
   "mimetype": "text/x-python",
   "name": "python",
   "nbconvert_exporter": "python",
   "pygments_lexer": "ipython3",
   "version": "3.6.1"
  }
 },
 "nbformat": 4,
 "nbformat_minor": 2
}
